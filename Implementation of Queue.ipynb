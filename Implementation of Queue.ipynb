{
 "cells": [
  {
   "cell_type": "markdown",
   "metadata": {},
   "source": [
    "# LAB | Implementation of Queues"
   ]
  },
  {
   "cell_type": "markdown",
   "metadata": {},
   "source": [
    "\n",
    "## Overview"
   ]
  },
  {
   "cell_type": "markdown",
   "metadata": {},
   "source": [
    "\n",
    "This lesson will cover the implementation of queues in Python, focusing on two primary methods: array implementation and linked list implementation. Understanding these implementations will provide a solid foundation for working with queues in various applications.\n"
   ]
  },
  {
   "cell_type": "markdown",
   "metadata": {},
   "source": [
    "\n",
    "## Instructions\n"
   ]
  },
  {
   "cell_type": "markdown",
   "metadata": {},
   "source": [
    "\n",
    "- Complete each section by understanding the concepts and implementing the provided code.\n",
    "- Test your code to ensure it behaves as expected.\n",
    "\n",
    "\n"
   ]
  },
  {
   "cell_type": "markdown",
   "metadata": {},
   "source": [
    "\n",
    "## 1. Array Implementation of Queue\n"
   ]
  },
  {
   "cell_type": "markdown",
   "metadata": {},
   "source": [
    "\n",
    "In this section, we will discuss how to implement a queue using a simple array. While this method is not efficient for practical use, as it can lead to wasted space, it is important for understanding the fundamentals of queue operations.\n"
   ]
  },
  {
   "cell_type": "markdown",
   "metadata": {},
   "source": [
    "\n",
    "### Key Concepts\n",
    "\n",
    "- **Capacity**: The fixed size of the array.\n",
    "- **Size**: The current number of elements in the queue.\n",
    "- **Front**: The index of the first element in the array.\n"
   ]
  },
  {
   "cell_type": "markdown",
   "metadata": {},
   "source": [
    "\n",
    "### Operations\n",
    "\n",
    "- **Enqueue**: Adds new elements to the end of the queue. Checks if there is space before insertion and increments the size.\n",
    "- **Dequeue**: Removes the front element by shifting all remaining elements one position to the left and decrements the size.\n",
    "- **getFront**: Returns the first element of the queue if it’s not empty; returns -1 if the queue is empty.\n",
    "- **Display**: Iterates through the queue from front to size and prints each element.\n"
   ]
  },
  {
   "cell_type": "markdown",
   "metadata": {},
   "source": [
    "### Explanation\n",
    "This cell demonstrates the implementation. Take a moment to check out the code and run the cell to see how it works."
   ]
  },
  {
   "cell_type": "code",
   "execution_count": 2,
   "metadata": {},
   "outputs": [
    {
     "name": "stdout",
     "output_type": "stream",
     "text": [
      "10 20 \n",
      "10\n"
     ]
    }
   ],
   "source": [
    "class ArrayQueue:\n",
    "    def __init__(self, capacity):\n",
    "        self.capacity = capacity\n",
    "        self.queue = [None] * capacity\n",
    "        self.size = 0\n",
    "        self.front = 0\n",
    "\n",
    "    def enQueue(self, item):\n",
    "        if self.size == self.capacity:\n",
    "            print(\"Queue is full\")\n",
    "            return\n",
    "\n",
    "        rear = (self.front + self.size) % self.capacity\n",
    "        self.queue[rear] = item\n",
    "        self.size += 1\n",
    "\n",
    "    def deQueue(self):\n",
    "        if self.size == 0:\n",
    "            print(\"Queue is empty\")\n",
    "            return -1\n",
    "\n",
    "        item = self.queue[self.front]\n",
    "        self.front = (self.front + 1) % self.capacity\n",
    "        self.size -= 1\n",
    "        return item\n",
    "\n",
    "    def getFront(self):\n",
    "        if self.size == 0:\n",
    "            return -1\n",
    "        return self.queue[self.front]\n",
    "\n",
    "    def display(self):\n",
    "        for i in range(self.size):\n",
    "            print(self.queue[(self.front + i) % self.capacity], end=\" \")\n",
    "        print()\n",
    "\n",
    "# Example usage:\n",
    "array_queue = ArrayQueue(5)\n",
    "array_queue.enQueue(10)\n",
    "array_queue.enQueue(20)\n",
    "array_queue.display()  # Output: 10 20\n",
    "print(array_queue.deQueue())  # Output: 10"
   ]
  },
  {
   "cell_type": "code",
   "execution_count": null,
   "metadata": {},
   "outputs": [],
   "source": []
  },
  {
   "cell_type": "markdown",
   "metadata": {},
   "source": [
    "### Try It Yourself!\n",
    "Modify the implementation below or try writing your own version based on what you've learned above."
   ]
  },
  {
   "cell_type": "code",
   "execution_count": 1,
   "metadata": {},
   "outputs": [],
   "source": [
    "class Queue:\n",
    "    def __init__(self, capacity):\n",
    "        self.capacity = capacity\n",
    "        self.queue = []\n",
    "    \n",
    "    def is_full(self):\n",
    "        return len(self.queue) == self.capacity\n",
    "    \n",
    "    def is_empty(self):\n",
    "        return len(self.queue) == 0\n",
    "\n",
    "    def enqueue(self, item):\n",
    "        if self.is_full():\n",
    "            print(f\"🚫 Queue Overflow! Can't let {item} in, the party's full!\")\n",
    "        else:\n",
    "            self.queue.append(item)\n",
    "            print(f\"🎉 {item} has joined the queue!\")\n",
    "\n",
    "    def dequeue(self):\n",
    "        if self.is_empty():\n",
    "            print(\"😢 Queue Underflow! No one’s here to leave.\")\n",
    "        else:\n",
    "            removed = self.queue.pop(0)\n",
    "            print(f\"👋 {removed} has left the queue!\")\n",
    "            return removed\n",
    "\n",
    "    def get_front(self):\n",
    "        if self.is_empty():\n",
    "            print(\"🧐 Nothing at the front! The queue is empty.\")\n",
    "            return None\n",
    "        print(f\"👀 Peek! {self.queue[0]} is at the front of the queue.\")\n",
    "        return self.queue[0]\n",
    "\n",
    "    def display(self):\n",
    "        if self.is_empty():\n",
    "            print(\"🪹 The queue is lonely and empty.\")\n",
    "        else:\n",
    "            print(\"📋 Current queue lineup:\")\n",
    "            print(\" <- \".join(str(item) for item in self.queue))\n"
   ]
  },
  {
   "cell_type": "markdown",
   "metadata": {},
   "source": [
    "\n",
    "## 2. Linked List Implementation of Queue\n"
   ]
  },
  {
   "cell_type": "markdown",
   "metadata": {},
   "source": [
    "\n",
    "In this section, we will implement a queue using a linked list. This method allows for dynamic sizing and avoids wasted space.\n"
   ]
  },
  {
   "cell_type": "markdown",
   "metadata": {},
   "source": [
    "\n",
    "### Key Concepts\n",
    "\n",
    "- **Front**: Points to the first item of the queue.\n",
    "- **Rear**: Points to the last item of the queue.\n"
   ]
  },
  {
   "cell_type": "markdown",
   "metadata": {},
   "source": [
    "\n",
    "### Operations\n",
    "\n",
    "- **enQueue()**: Adds a new node after the rear and moves rear to the next node.\n",
    "- **deQueue()**: Removes the front node and moves front to the next node.\n"
   ]
  },
  {
   "cell_type": "markdown",
   "metadata": {},
   "source": [
    "\n",
    "### Implementation Steps\n",
    "\n",
    "1. Create a class `QNode` with data members `data` and `next`.\n",
    "2. Create a class `Queue` with data members `front` and `rear`.\n"
   ]
  },
  {
   "cell_type": "markdown",
   "metadata": {},
   "source": [
    "### Explanation\n",
    "This cell demonstrates the implementation. Take a moment to check out the code and run the cell to see how it works."
   ]
  },
  {
   "cell_type": "code",
   "execution_count": 11,
   "metadata": {},
   "outputs": [
    {
     "name": "stdout",
     "output_type": "stream",
     "text": [
      "10\n"
     ]
    }
   ],
   "source": [
    "class QNode:\n",
    "    def __init__(self, data):\n",
    "        self.data = data\n",
    "        self.next = None\n",
    "\n",
    "class Queue:\n",
    "    \n",
    "    def __init__(self):\n",
    "        self.front = None\n",
    "        self.rear = None\n",
    "        self._size = 0  \n",
    "\n",
    "    def enQueue(self, data):\n",
    "        \"\"\"Add an element to the rear of the queue\"\"\"\n",
    "        new_node = QNode(data)\n",
    "        \n",
    "        if self.isEmpty():\n",
    "            self.front = self.rear = new_node\n",
    "        else:\n",
    "            self.rear.next = new_node\n",
    "            self.rear = new_node\n",
    "            \n",
    "        self._size += 1\n",
    "    \n",
    "    def deQueue(self):\n",
    "        \"\"\"Remove and return the front element of the queue\"\"\"\n",
    "        if self.isEmpty():\n",
    "            raise IndexError(\"Cannot dequeue from empty queue\")\n",
    "            \n",
    "        temp = self.front\n",
    "        self.front = temp.next\n",
    "        self._size -= 1\n",
    "        \n",
    "        # If queue becomes empty after dequeue\n",
    "        if self.front is None:\n",
    "            self.rear = None\n",
    "            \n",
    "        return temp.data\n",
    "\n",
    "    def getFront(self):\n",
    "            \"\"\"Return the front element without removing it\"\"\"\n",
    "            if self.isEmpty():\n",
    "                raise IndexError(\"Queue is empty\")\n",
    "            return self.front.data\n",
    "        \n",
    "    def getRear(self):\n",
    "        \"\"\"Return the rear element without removing it\"\"\"\n",
    "        if self.isEmpty():\n",
    "            raise IndexError(\"Queue is empty\")\n",
    "        return self.rear.data\n",
    "        \n",
    "    def isEmpty(self):\n",
    "        \"\"\"Check if queue is empty\"\"\"\n",
    "        return self.front is None\n",
    "\n",
    "    def size(self):\n",
    "        \"\"\"Return the current size of queue\"\"\"\n",
    "        return self._size\n",
    "\n",
    "    def display(self):\n",
    "        \"\"\"Display all elements in the queue\"\"\"\n",
    "        if self.isEmpty():\n",
    "            return \"Queue is empty\"\n",
    "            \n",
    "        elements = []\n",
    "        current = self.front\n",
    "        while current:\n",
    "            elements.append(str(current.data))\n",
    "            current = current.next\n",
    "        return \" -> \".join(elements)\n",
    "    \n",
    "# Example usage:\n",
    "linked_list_queue = Queue()\n",
    "linked_list_queue.enQueue(10)\n",
    "linked_list_queue.enQueue(20)\n",
    "print(linked_list_queue.deQueue())  # Output: 10"
   ]
  },
  {
   "cell_type": "markdown",
   "metadata": {},
   "source": [
    "### Try It Yourself!\n",
    "Modify the implementation below or try writing your own version based on what you've learned above."
   ]
  },
  {
   "cell_type": "code",
   "execution_count": 4,
   "metadata": {},
   "outputs": [
    {
     "name": "stdout",
     "output_type": "stream",
     "text": [
      "🚶 'Lucinda' joins the front of the line.\n",
      "🚶 'Geo' hops to the back of the line.\n",
      "🚶 'Charlie' hops to the back of the line.\n",
      "🎟️ Here's everyone still in line:\n",
      " - Lucinda\n",
      " - Geo\n",
      " - Charlie\n",
      "🛑 End of line\n",
      "\n",
      "👋 'Lucinda' leaves the line.\n",
      "🚶 'Miranda' hops to the back of the line.\n",
      "🎟️ Here's everyone still in line:\n",
      " - Geo\n",
      " - Charlie\n",
      " - Miranda\n",
      "🛑 End of line\n",
      "\n",
      "👋 'Geo' leaves the line.\n",
      "👋 'Charlie' leaves the line.\n",
      "👋 'Miranda' leaves the line.\n",
      "🚫 Whoops! The line is already empty.\n",
      "🎪 The line is currently empty.\n"
     ]
    }
   ],
   "source": [
    "class QNode:\n",
    "    def __init__(self, data):\n",
    "        self.data = data\n",
    "        self.next = None\n",
    "\n",
    "class Queue:\n",
    "    def __init__(self):\n",
    "        self.front = None\n",
    "        self.rear = None\n",
    "\n",
    "    def enQueue(self, data):\n",
    "        new_node = QNode(data)\n",
    "        if self.rear is None:\n",
    "            self.front = self.rear = new_node\n",
    "            print(f\"🚶 '{data}' joins the front of the line.\")\n",
    "            return\n",
    "        self.rear.next = new_node\n",
    "        self.rear = new_node\n",
    "        print(f\"🚶 '{data}' hops to the back of the line.\")\n",
    "\n",
    "    def deQueue(self):\n",
    "        if self.front is None:\n",
    "            print(\"🚫 Whoops! The line is already empty.\")\n",
    "            return None\n",
    "        temp = self.front\n",
    "        self.front = self.front.next\n",
    "        if self.front is None:\n",
    "            self.rear = None\n",
    "        print(f\"👋 '{temp.data}' leaves the line.\")\n",
    "        return temp.data\n",
    "\n",
    "    def display(self):\n",
    "        if self.front is None:\n",
    "            print(\"🎪 The line is currently empty.\")\n",
    "            return\n",
    "        print(\"🎟️ Here's everyone still in line:\")\n",
    "        current = self.front\n",
    "        while current:\n",
    "            print(f\" - {current.data}\")\n",
    "            current = current.next\n",
    "        print(\"🛑 End of line\\n\")\n",
    "\n",
    "# 🎉 Demo Time\n",
    "q = Queue()\n",
    "q.enQueue(\"Lucinda\")\n",
    "q.enQueue(\"Geo\")\n",
    "q.enQueue(\"Charlie\")\n",
    "\n",
    "q.display()\n",
    "\n",
    "q.deQueue()\n",
    "q.enQueue(\"Miranda\")\n",
    "q.display()\n",
    "\n",
    "q.deQueue()\n",
    "q.deQueue()\n",
    "q.deQueue()\n",
    "q.deQueue()  # extra dequeue to show empty behavior\n",
    "q.display()\n"
   ]
  },
  {
   "cell_type": "markdown",
   "metadata": {},
   "source": [
    "\n",
    "\n",
    "## Basic Operations on Queue\n"
   ]
  },
  {
   "cell_type": "markdown",
   "metadata": {},
   "source": [
    "\n",
    "Here are the essential operations associated with queues:\n",
    "\n",
    "- **enQueue()**: Adds an element to the rear of the queue.\n",
    "- **deQueue()**: Removes an element from the front of the queue.\n",
    "- **getFront()**: Retrieves the data element located at the front of the queue without removing it.\n",
    "- **getRear()**: Returns the element at the rear of the queue without removing it.\n",
    "- **display()**: Display all elements in the queue.\n",
    "- **isEmpty()**: Determines whether the queue is currently empty.\n",
    "- **size()**: Provides the total number of elements present in the queue.\n"
   ]
  },
  {
   "cell_type": "markdown",
   "metadata": {},
   "source": [
    "### Operation 1: enQueue()\n",
    "This operation inserts an element at the rear end of the queue.\n",
    "\n",
    "To perform an enqueue operation, follow these steps:\n",
    "\n",
    "1.  we create a new node containing our data. This node will become the new rear of our queue.\n",
    "2. We then handle two distinct scenarios:\n",
    "\n",
    "    -  If the queue is empty (checked via `isEmpty()`), both front and rear pointers need to point to our new node since it's the only element\n",
    "    -  If the queue already has elements, we link our new node to the current rear and update the rear pointer\n",
    "3. Finally, we increment our size counter to keep track of the number of elements.\n"
   ]
  },
  {
   "cell_type": "markdown",
   "metadata": {},
   "source": [
    "### Explanation\n",
    "This cell demonstrates the implementation. Take a moment to check out the code and run the cell to see how it works."
   ]
  },
  {
   "cell_type": "code",
   "execution_count": 5,
   "metadata": {},
   "outputs": [],
   "source": [
    "def enQueue(self, data):\n",
    "    \"\"\"Add an element to the rear of the queue\"\"\"\n",
    "    new_node = QNode(data)\n",
    "    \n",
    "    if self.isEmpty():\n",
    "        self.front = self.rear = new_node\n",
    "    else:\n",
    "        self.rear.next = new_node\n",
    "        self.rear = new_node\n",
    "    self._size += 1"
   ]
  },
  {
   "cell_type": "code",
   "execution_count": 22,
   "metadata": {},
   "outputs": [],
   "source": [
    "# Sample Execution\n",
    "\n",
    "linked_list_queue = Queue()\n",
    "linked_list_queue.enQueue(10) # Output: 10 enqueued to queue\n",
    "linked_list_queue.enQueue(20) # Output: 20 enqueued to queue"
   ]
  },
  {
   "cell_type": "markdown",
   "metadata": {},
   "source": [
    "### Try It Yourself!\n",
    "Modify the implementation below or try writing your own version based on what you've learned above."
   ]
  },
  {
   "cell_type": "code",
   "execution_count": 6,
   "metadata": {},
   "outputs": [
    {
     "name": "stdout",
     "output_type": "stream",
     "text": [
      "🆕 Queue was empty! 'Rocket Fuel' is now at both front and rear.\n",
      "📈 Queue size is now: 1\n",
      "🧩 'Moon Cheese' added to the end of the queue.\n",
      "📈 Queue size is now: 2\n",
      "🧩 'Gravity Boots' added to the end of the queue.\n",
      "📈 Queue size is now: 3\n",
      "📋 Queue elements:\n",
      " - Rocket Fuel\n",
      " - Moon Cheese\n",
      " - Gravity Boots\n",
      "📦 Total elements: 3\n",
      "\n",
      "👋 'Rocket Fuel' removed from queue. 📉 Size: 2\n",
      "📋 Queue elements:\n",
      " - Moon Cheese\n",
      " - Gravity Boots\n",
      "📦 Total elements: 2\n",
      "\n",
      "🧩 'Alien Snacks' added to the end of the queue.\n",
      "📈 Queue size is now: 3\n",
      "📋 Queue elements:\n",
      " - Moon Cheese\n",
      " - Gravity Boots\n",
      " - Alien Snacks\n",
      "📦 Total elements: 3\n",
      "\n"
     ]
    }
   ],
   "source": [
    "class QNode:\n",
    "    def __init__(self, data):\n",
    "        self.data = data\n",
    "        self.next = None\n",
    "\n",
    "class Queue:\n",
    "    def __init__(self):\n",
    "        self.front = None\n",
    "        self.rear = None\n",
    "        self.size = 0\n",
    "\n",
    "    def isEmpty(self):\n",
    "        return self.front is None\n",
    "\n",
    "    def enQueue(self, data):\n",
    "        new_node = QNode(data)\n",
    "        if self.isEmpty():\n",
    "            self.front = self.rear = new_node\n",
    "            print(f\"🆕 Queue was empty! '{data}' is now at both front and rear.\")\n",
    "        else:\n",
    "            self.rear.next = new_node\n",
    "            self.rear = new_node\n",
    "            print(f\"🧩 '{data}' added to the end of the queue.\")\n",
    "        self.size += 1\n",
    "        print(f\"📈 Queue size is now: {self.size}\")\n",
    "\n",
    "    def deQueue(self):\n",
    "        if self.isEmpty():\n",
    "            print(\"🚫 Cannot dequeue. Queue is empty.\")\n",
    "            return None\n",
    "        removed = self.front\n",
    "        self.front = self.front.next\n",
    "        if self.front is None:\n",
    "            self.rear = None  # Queue is now empty\n",
    "        self.size -= 1\n",
    "        print(f\"👋 '{removed.data}' removed from queue. 📉 Size: {self.size}\")\n",
    "        return removed.data\n",
    "\n",
    "    def display(self):\n",
    "        if self.isEmpty():\n",
    "            print(\"📭 Queue is empty!\")\n",
    "            return\n",
    "        print(\"📋 Queue elements:\")\n",
    "        current = self.front\n",
    "        while current:\n",
    "            print(f\" - {current.data}\")\n",
    "            current = current.next\n",
    "        print(f\"📦 Total elements: {self.size}\\n\")\n",
    "\n",
    "# 🚀 Demo Time\n",
    "q = Queue()\n",
    "q.enQueue(\"Rocket Fuel\")\n",
    "q.enQueue(\"Moon Cheese\")\n",
    "q.enQueue(\"Gravity Boots\")\n",
    "\n",
    "q.display()\n",
    "\n",
    "q.deQueue()\n",
    "q.display()\n",
    "\n",
    "q.enQueue(\"Alien Snacks\")\n",
    "q.display()\n"
   ]
  },
  {
   "cell_type": "markdown",
   "metadata": {},
   "source": [
    "\n",
    "### Operation 2: deQueue()\n",
    "This operation removes and returns the element located at the front of the queue.\n",
    "\n",
    "To perform a dequeue operation, follow these steps:\n",
    "\n",
    "1. Check if the queue is empty.\n",
    "2. If empty, return an underflow error and exit.\n",
    "3. If not empty, access and store the data at the front pointer.\n",
    "4. Increment the front pointer to point to the next available data element.\n",
    "5. Return success.\n"
   ]
  },
  {
   "cell_type": "markdown",
   "metadata": {},
   "source": [
    "### Explanation\n",
    "This cell demonstrates the implementation. Take a moment to check out the code and run the cell to see how it works."
   ]
  },
  {
   "cell_type": "code",
   "execution_count": 14,
   "metadata": {},
   "outputs": [],
   "source": [
    "def deQueue(self):\n",
    "    \"\"\"Remove and return the front element of the queue\"\"\"\n",
    "    if self.isEmpty():\n",
    "        raise IndexError(\"Cannot dequeue from empty queue\")\n",
    "        \n",
    "    temp = self.front\n",
    "    self.front = temp.next\n",
    "    self._size -= 1\n",
    "    \n",
    "    # If queue becomes empty after dequeue\n",
    "    if self.front is None:\n",
    "        self.rear = None\n",
    "        \n",
    "    return temp.data"
   ]
  },
  {
   "cell_type": "code",
   "execution_count": 23,
   "metadata": {},
   "outputs": [
    {
     "name": "stdout",
     "output_type": "stream",
     "text": [
      "10\n",
      "20\n"
     ]
    }
   ],
   "source": [
    "# Sample Execution\n",
    "\n",
    "print(linked_list_queue.deQueue())  # Output: 10 dequeued from queue\n",
    "print(linked_list_queue.deQueue())  # Output: 20 dequeued from queue\n"
   ]
  },
  {
   "cell_type": "markdown",
   "metadata": {},
   "source": [
    "### Try It Yourself!\n",
    "Modify the implementation below or try writing your own version based on what you've learned above."
   ]
  },
  {
   "cell_type": "code",
   "execution_count": 7,
   "metadata": {},
   "outputs": [
    {
     "name": "stdout",
     "output_type": "stream",
     "text": [
      "💥 Queue Underflow: Tried to remove from an empty line! Panic at the queue!\n",
      "🆕 Queue was empty! 'Taco' is now at both front and rear.\n",
      "📈 Queue size is now: 1\n",
      "🧩 'Burger' added to the end of the queue.\n",
      "📈 Queue size is now: 2\n",
      "🧩 'Fries' added to the end of the queue.\n",
      "📈 Queue size is now: 3\n",
      "📋 Queue elements:\n",
      " - Taco\n",
      " - Burger\n",
      " - Fries\n",
      "📦 Total elements: 3\n",
      "\n",
      "👋 'Taco' left the queue. 📉 Queue size is now 2\n",
      "Success!\n",
      "👋 'Burger' left the queue. 📉 Queue size is now 1\n",
      "Success!\n",
      "👋 'Fries' left the queue. 📉 Queue size is now 0\n",
      "Success!\n",
      "💥 Queue Underflow: Tried to remove from an empty line! Panic at the queue!\n",
      "Failure\n",
      "📭 Queue is empty!\n"
     ]
    }
   ],
   "source": [
    "class QNode:\n",
    "    def __init__(self, data):\n",
    "        self.data = data\n",
    "        self.next = None\n",
    "\n",
    "class Queue:\n",
    "    def __init__(self):\n",
    "        self.front = None\n",
    "        self.rear = None\n",
    "        self.size = 0\n",
    "\n",
    "    def isEmpty(self):\n",
    "        return self.front is None\n",
    "\n",
    "    def enQueue(self, data):\n",
    "        new_node = QNode(data)\n",
    "        if self.isEmpty():\n",
    "            self.front = self.rear = new_node\n",
    "            print(f\"🆕 Queue was empty! '{data}' is now at both front and rear.\")\n",
    "        else:\n",
    "            self.rear.next = new_node\n",
    "            self.rear = new_node\n",
    "            print(f\"🧩 '{data}' added to the end of the queue.\")\n",
    "        self.size += 1\n",
    "        print(f\"📈 Queue size is now: {self.size}\")\n",
    "\n",
    "    def deQueue(self):\n",
    "        if self.isEmpty():\n",
    "            print(\"💥 Queue Underflow: Tried to remove from an empty line! Panic at the queue!\")\n",
    "            return \"Failure\"\n",
    "        removed_data = self.front.data\n",
    "        self.front = self.front.next\n",
    "        if self.front is None:\n",
    "            self.rear = None\n",
    "        self.size -= 1\n",
    "        print(f\"👋 '{removed_data}' left the queue. 📉 Queue size is now {self.size}\")\n",
    "        return \"Success!\"\n",
    "\n",
    "    def display(self):\n",
    "        if self.isEmpty():\n",
    "            print(\"📭 Queue is empty!\")\n",
    "            return\n",
    "        print(\"📋 Queue elements:\")\n",
    "        current = self.front\n",
    "        while current:\n",
    "            print(f\" - {current.data}\")\n",
    "            current = current.next\n",
    "        print(f\"📦 Total elements: {self.size}\\n\")\n",
    "\n",
    "# 🎉 Demo Time\n",
    "q = Queue()\n",
    "q.deQueue()  # should trigger underflow error\n",
    "\n",
    "q.enQueue(\"Taco\")\n",
    "q.enQueue(\"Burger\")\n",
    "q.enQueue(\"Fries\")\n",
    "q.display()\n",
    "\n",
    "print(q.deQueue())  # should remove Taco\n",
    "print(q.deQueue())  # should remove Burger\n",
    "print(q.deQueue())  # should remove Fries\n",
    "print(q.deQueue())  # underflow again\n",
    "\n",
    "q.display()\n"
   ]
  },
  {
   "cell_type": "markdown",
   "metadata": {},
   "source": [
    "\n",
    "### Operation 3: getFront()\n",
    "This operation retrieves the element at the front end without removing it.\n",
    "\n",
    "To perform this operation:\n",
    "\n",
    "1. If the queue is empty, return a message indicating that it is empty.\n",
    "2. Otherwise, return the value at the front pointer.\n"
   ]
  },
  {
   "cell_type": "markdown",
   "metadata": {},
   "source": [
    "### Explanation\n",
    "This cell demonstrates the implementation. Take a moment to check out the code and run the cell to see how it works."
   ]
  },
  {
   "cell_type": "code",
   "execution_count": 16,
   "metadata": {},
   "outputs": [],
   "source": [
    "def getFront(self):\n",
    "    \"\"\"Return the front element without removing it\"\"\"\n",
    "    if self.isEmpty():\n",
    "        raise IndexError(\"Queue is empty\")\n",
    "    return self.front.data"
   ]
  },
  {
   "cell_type": "code",
   "execution_count": 24,
   "metadata": {},
   "outputs": [
    {
     "name": "stdout",
     "output_type": "stream",
     "text": [
      "30\n"
     ]
    }
   ],
   "source": [
    "# Sample Execution\n",
    "\n",
    "linked_list_queue.enQueue(30)  # Output: 30 enqueued to queue\n",
    "print(linked_list_queue.getFront())  # Output: 30 (the front of the queue)\n"
   ]
  },
  {
   "cell_type": "markdown",
   "metadata": {},
   "source": [
    "### Try It Yourself!\n",
    "Modify the implementation below or try writing your own version based on what you've learned above."
   ]
  },
  {
   "cell_type": "code",
   "execution_count": 8,
   "metadata": {},
   "outputs": [
    {
     "name": "stdout",
     "output_type": "stream",
     "text": [
      "😐 it's empty!\n",
      "🆕 Queue was empty! 'Waffles' is now at both front and rear.\n",
      "🧩 'Syrup' added to the end of the queue.\n",
      "🧩 'Bacon' added to the end of the queue.\n",
      "🎯 Front of the queue: 'Waffles'\n",
      "👋 'Waffles' left the queue. 📉 Queue size is now 2\n",
      "🎯 Front of the queue: 'Syrup'\n",
      "👋 'Syrup' left the queue. 📉 Queue size is now 1\n",
      "👋 'Bacon' left the queue. 📉 Queue size is now 0\n",
      "😐 it's empty!\n"
     ]
    }
   ],
   "source": [
    "class QNode:\n",
    "    def __init__(self, data):\n",
    "        self.data = data\n",
    "        self.next = None\n",
    "\n",
    "class Queue:\n",
    "    def __init__(self):\n",
    "        self.front = None\n",
    "        self.rear = None\n",
    "        self.size = 0\n",
    "\n",
    "    def isEmpty(self):\n",
    "        return self.front is None\n",
    "\n",
    "    def enQueue(self, data):\n",
    "        new_node = QNode(data)\n",
    "        if self.isEmpty():\n",
    "            self.front = self.rear = new_node\n",
    "            print(f\"🆕 Queue was empty! '{data}' is now at both front and rear.\")\n",
    "        else:\n",
    "            self.rear.next = new_node\n",
    "            self.rear = new_node\n",
    "            print(f\"🧩 '{data}' added to the end of the queue.\")\n",
    "        self.size += 1\n",
    "\n",
    "    def deQueue(self):\n",
    "        if self.isEmpty():\n",
    "            print(\"💥 Queue Underflow: Tried to remove from an empty line! Panic at the queue!\")\n",
    "            return \"Failure\"\n",
    "        removed_data = self.front.data\n",
    "        self.front = self.front.next\n",
    "        if self.front is None:\n",
    "            self.rear = None\n",
    "        self.size -= 1\n",
    "        print(f\"👋 '{removed_data}' left the queue. 📉 Queue size is now {self.size}\")\n",
    "        return \"Success!\"\n",
    "\n",
    "    def getFront(self):\n",
    "        if self.isEmpty():\n",
    "            return \"😐 it's empty!\"\n",
    "        return f\"🎯 Front of the queue: '{self.front.data}'\"\n",
    "\n",
    "    def display(self):\n",
    "        if self.isEmpty():\n",
    "            print(\"📭 Queue is empty!\")\n",
    "            return\n",
    "        print(\"📋 Queue elements:\")\n",
    "        current = self.front\n",
    "        while current:\n",
    "            print(f\" - {current.data}\")\n",
    "            current = current.next\n",
    "        print(f\"📦 Total elements: {self.size}\\n\")\n",
    "\n",
    "# 🎉 Demo Time\n",
    "q = Queue()\n",
    "\n",
    "print(q.getFront())  # Should say it's empty\n",
    "\n",
    "q.enQueue(\"Waffles\")\n",
    "q.enQueue(\"Syrup\")\n",
    "q.enQueue(\"Bacon\")\n",
    "\n",
    "print(q.getFront())  # Should show \"Waffles\"\n",
    "\n",
    "q.deQueue()\n",
    "print(q.getFront())  # Should now show \"Syrup\"\n",
    "\n",
    "q.deQueue()\n",
    "q.deQueue()\n",
    "print(q.getFront())  # Should say it's empty again\n"
   ]
  },
  {
   "cell_type": "markdown",
   "metadata": {},
   "source": [
    "\n",
    "### Operation 4: getRear()\n",
    "This operation retrieves the element at the rear end without removing it.\n",
    "\n",
    "To perform this operation:\n",
    "\n",
    "1. If the queue is empty, return a message indicating that it is empty.\n",
    "2. Otherwise, return the value at the rear pointer.\n"
   ]
  },
  {
   "cell_type": "markdown",
   "metadata": {},
   "source": [
    "### Explanation\n",
    "This cell demonstrates the implementation. Take a moment to check out the code and run the cell to see how it works."
   ]
  },
  {
   "cell_type": "code",
   "execution_count": 18,
   "metadata": {},
   "outputs": [],
   "source": [
    "def getRear(self):\n",
    "    \"\"\"Return the rear element without removing it\"\"\"\n",
    "    if self.isEmpty():\n",
    "        raise IndexError(\"Queue is empty\")\n",
    "    return self.rear.data"
   ]
  },
  {
   "cell_type": "code",
   "execution_count": 25,
   "metadata": {},
   "outputs": [
    {
     "name": "stdout",
     "output_type": "stream",
     "text": [
      "30\n"
     ]
    }
   ],
   "source": [
    "# Sample Execution\n",
    "\n",
    "print(linked_list_queue.getRear())  # Output: 30 (the rear element)\n"
   ]
  },
  {
   "cell_type": "markdown",
   "metadata": {},
   "source": [
    "### Try It Yourself!\n",
    "Modify the implementation below or try writing your own version based on what you've learned above."
   ]
  },
  {
   "cell_type": "code",
   "execution_count": 9,
   "metadata": {},
   "outputs": [
    {
     "name": "stdout",
     "output_type": "stream",
     "text": [
      "🔚 all out!\n",
      "🆕 Queue was empty! 'Coffee' is now at both front and rear.\n",
      "🧩 'Donuts' added to the end of the queue.\n",
      "🧩 'Bagels' added to the end of the queue.\n",
      "🎯 Rear of the queue: 'Bagels'\n",
      "👋 'Coffee' left the queue. 📉 Queue size is now 2\n",
      "🎯 Rear of the queue: 'Bagels'\n",
      "👋 'Donuts' left the queue. 📉 Queue size is now 1\n",
      "👋 'Bagels' left the queue. 📉 Queue size is now 0\n",
      "🔚 all out!\n"
     ]
    }
   ],
   "source": [
    "class QNode:\n",
    "    def __init__(self, data):\n",
    "        self.data = data\n",
    "        self.next = None\n",
    "\n",
    "class Queue:\n",
    "    def __init__(self):\n",
    "        self.front = None\n",
    "        self.rear = None\n",
    "        self.size = 0\n",
    "\n",
    "    def isEmpty(self):\n",
    "        return self.front is None\n",
    "\n",
    "    def enQueue(self, data):\n",
    "        new_node = QNode(data)\n",
    "        if self.isEmpty():\n",
    "            self.front = self.rear = new_node\n",
    "            print(f\"🆕 Queue was empty! '{data}' is now at both front and rear.\")\n",
    "        else:\n",
    "            self.rear.next = new_node\n",
    "            self.rear = new_node\n",
    "            print(f\"🧩 '{data}' added to the end of the queue.\")\n",
    "        self.size += 1\n",
    "\n",
    "    def deQueue(self):\n",
    "        if self.isEmpty():\n",
    "            print(\"💥 Queue Underflow: Tried to remove from an empty line! Panic at the queue!\")\n",
    "            return \"Failure\"\n",
    "        removed_data = self.front.data\n",
    "        self.front = self.front.next\n",
    "        if self.front is None:\n",
    "            self.rear = None\n",
    "        self.size -= 1\n",
    "        print(f\"👋 '{removed_data}' left the queue. 📉 Queue size is now {self.size}\")\n",
    "        return \"Success!\"\n",
    "\n",
    "    def getFront(self):\n",
    "        return \"😐 it's empty!\" if self.isEmpty() else f\"🎯 Front of the queue: '{self.front.data}'\"\n",
    "\n",
    "    def getRear(self):\n",
    "        return \"🔚 all out!\" if self.isEmpty() else f\"🎯 Rear of the queue: '{self.rear.data}'\"\n",
    "\n",
    "    def display(self):\n",
    "        if self.isEmpty():\n",
    "            print(\"📭 Queue is empty!\")\n",
    "            return\n",
    "        print(\"📋 Queue elements:\")\n",
    "        current = self.front\n",
    "        while current:\n",
    "            print(f\" - {current.data}\")\n",
    "            current = current.next\n",
    "        print(f\"📦 Total elements: {self.size}\\n\")\n",
    "\n",
    "# 🚀 Demo Time\n",
    "q = Queue()\n",
    "\n",
    "print(q.getRear())  # Should return 'all out!'\n",
    "\n",
    "q.enQueue(\"Coffee\")\n",
    "q.enQueue(\"Donuts\")\n",
    "q.enQueue(\"Bagels\")\n",
    "\n",
    "print(q.getRear())  # Should return 'Bagels'\n",
    "\n",
    "q.deQueue()\n",
    "print(q.getRear())  # Should still return 'Bagels'\n",
    "\n",
    "q.deQueue()\n",
    "q.deQueue()\n",
    "print(q.getRear())  # Should return 'all out!'\n"
   ]
  },
  {
   "cell_type": "markdown",
   "metadata": {},
   "source": [
    "\n",
    "### Operation 5: isEmpty()\n",
    "This operation checks whether the queue is empty and returns a boolean value.\n"
   ]
  },
  {
   "cell_type": "markdown",
   "metadata": {},
   "source": [
    "### Explanation\n",
    "This cell demonstrates the implementation. Take a moment to check out the code and run the cell to see how it works."
   ]
  },
  {
   "cell_type": "code",
   "execution_count": null,
   "metadata": {},
   "outputs": [],
   "source": [
    "def isEmpty(self):\n",
    "    \"\"\"Check if queue is empty\"\"\"\n",
    "    return self.front is None\n"
   ]
  },
  {
   "cell_type": "code",
   "execution_count": 26,
   "metadata": {},
   "outputs": [
    {
     "name": "stdout",
     "output_type": "stream",
     "text": [
      "False\n"
     ]
    }
   ],
   "source": [
    "# Sample Execution\n",
    "\n",
    "print(linked_list_queue.isEmpty())  # Output: False (since there are elements in the queue)"
   ]
  },
  {
   "cell_type": "markdown",
   "metadata": {},
   "source": [
    "### Try It Yourself!\n",
    "Modify the implementation below or try writing your own version based on what you've learned above."
   ]
  },
  {
   "cell_type": "code",
   "execution_count": 10,
   "metadata": {},
   "outputs": [
    {
     "name": "stdout",
     "output_type": "stream",
     "text": [
      "😱 GASP! The queue is as empty as my snack drawer on a Monday!\n",
      "😱 GASP! The queue is as empty as my snack drawer on a Monday!\n",
      "🚚 First delivery! 'Marshmallow' enters the lonely queue.\n",
      "🎉 Nope! There’s still stuff in this queue party.\n",
      "📦 'Sprinkles' hops on the queue train!\n",
      "🎉 Nope! There’s still stuff in this queue party.\n",
      "📦 'Cupcake' hops on the queue train!\n",
      "🎉 Nope! There’s still stuff in this queue party.\n",
      "🎉 Nope! There’s still stuff in this queue party.\n",
      "🧾 Here's who’s hanging out in the queue:\n",
      " - Marshmallow\n",
      " - Sprinkles\n",
      " - Cupcake\n",
      "🧮 Total folks in line: 3\n",
      "\n"
     ]
    }
   ],
   "source": [
    "class QNode:\n",
    "    def __init__(self, data):\n",
    "        self.data = data\n",
    "        self.next = None\n",
    "\n",
    "class Queue:\n",
    "    def __init__(self):\n",
    "        self.front = None\n",
    "        self.rear = None\n",
    "        self.size = 0\n",
    "\n",
    "    def isEmpty(self):\n",
    "        if self.front is None:\n",
    "            print(\"😱 GASP! The queue is as empty as my snack drawer on a Monday!\")\n",
    "            return True\n",
    "        else:\n",
    "            print(\"🎉 Nope! There’s still stuff in this queue party.\")\n",
    "            return False\n",
    "\n",
    "    def enQueue(self, data):\n",
    "        new_node = QNode(data)\n",
    "        if self.isEmpty():\n",
    "            self.front = self.rear = new_node\n",
    "            print(f\"🚚 First delivery! '{data}' enters the lonely queue.\")\n",
    "        else:\n",
    "            self.rear.next = new_node\n",
    "            self.rear = new_node\n",
    "            print(f\"📦 '{data}' hops on the queue train!\")\n",
    "        self.size += 1\n",
    "\n",
    "    def display(self):\n",
    "        if self.isEmpty():\n",
    "            print(\"📭 Queue is empty! It's just echoes in here...\")\n",
    "            return\n",
    "        print(\"🧾 Here's who’s hanging out in the queue:\")\n",
    "        current = self.front\n",
    "        while current:\n",
    "            print(f\" - {current.data}\")\n",
    "            current = current.next\n",
    "        print(f\"🧮 Total folks in line: {self.size}\\n\")\n",
    "\n",
    "# 🎭 Let the Silly Demo Begin!\n",
    "q = Queue()\n",
    "\n",
    "# Check if it's empty before adding\n",
    "q.isEmpty()  # Should print silly empty message\n",
    "\n",
    "q.enQueue(\"Marshmallow\")\n",
    "q.enQueue(\"Sprinkles\")\n",
    "q.enQueue(\"Cupcake\")\n",
    "\n",
    "# Check again after adding\n",
    "q.isEmpty()  # Should print silly \"not empty\" message\n",
    "\n",
    "q.display()\n"
   ]
  },
  {
   "cell_type": "markdown",
   "metadata": {},
   "source": [
    "### Operation 6: display()\n",
    "This operation display all elements in the queue."
   ]
  },
  {
   "cell_type": "markdown",
   "metadata": {},
   "source": [
    "### Explanation\n",
    "This cell demonstrates the implementation. Take a moment to check out the code and run the cell to see how it works."
   ]
  },
  {
   "cell_type": "code",
   "execution_count": 11,
   "metadata": {},
   "outputs": [],
   "source": [
    "def display(self):\n",
    "    \"\"\"Display all elements in the queue\"\"\"\n",
    "    if self.isEmpty():\n",
    "        return \"Queue is empty\"\n",
    "        \n",
    "    elements = []\n",
    "    current = self.front\n",
    "    while current:\n",
    "        elements.append(str(current.data))\n",
    "        current = current.next\n",
    "    return \" -> \".join(elements)"
   ]
  },
  {
   "cell_type": "code",
   "execution_count": 12,
   "metadata": {},
   "outputs": [
    {
     "ename": "NameError",
     "evalue": "name 'linked_list_queue' is not defined",
     "output_type": "error",
     "traceback": [
      "\u001b[31m---------------------------------------------------------------------------\u001b[39m",
      "\u001b[31mNameError\u001b[39m                                 Traceback (most recent call last)",
      "\u001b[36mCell\u001b[39m\u001b[36m \u001b[39m\u001b[32mIn[12]\u001b[39m\u001b[32m, line 3\u001b[39m\n\u001b[32m      1\u001b[39m \u001b[38;5;66;03m# Sample Execution\u001b[39;00m\n\u001b[32m----> \u001b[39m\u001b[32m3\u001b[39m \u001b[38;5;28mprint\u001b[39m(\u001b[43mlinked_list_queue\u001b[49m.display())  \u001b[38;5;66;03m# Output: False (if capacity has not been reached)\u001b[39;00m\n",
      "\u001b[31mNameError\u001b[39m: name 'linked_list_queue' is not defined"
     ]
    }
   ],
   "source": [
    "# Sample Execution\n",
    "\n",
    "print(linked_list_queue.display())  # Output: False (if capacity has not been reached)"
   ]
  },
  {
   "cell_type": "markdown",
   "metadata": {},
   "source": [
    "### Try It Yourself!\n",
    "Modify the implementation below or try writing your own version based on what you've learned above."
   ]
  },
  {
   "cell_type": "code",
   "execution_count": 13,
   "metadata": {},
   "outputs": [
    {
     "name": "stdout",
     "output_type": "stream",
     "text": [
      "💭 The queue is quiet... but even stillness holds potential. 🌱\n",
      "🌈 A new journey begins with 'Hope' shining at the front!\n",
      "✨ 'Kindness' just joined the positivity parade!\n",
      "✨ 'Creativity' just joined the positivity parade!\n",
      "✨ 'Courage' just joined the positivity parade!\n",
      "🌍 Welcome to the Queue of Radiant Souls! 💫\n",
      " 1. 🌟 'Hope' — You’re doing amazing, keep shining!\n",
      " 2. 🌟 'Kindness' — You’re doing amazing, keep shining!\n",
      " 3. 🌟 'Creativity' — You’re doing amazing, keep shining!\n",
      " 4. 🌟 'Courage' — You’re doing amazing, keep shining!\n",
      "\n",
      "🌸 Total beings of brilliance in queue: 4 💖\n",
      "💪 Keep going, you’re building something beautiful.\n",
      "\n"
     ]
    }
   ],
   "source": [
    "class QNode:\n",
    "    def __init__(self, data):\n",
    "        self.data = data\n",
    "        self.next = None\n",
    "\n",
    "class Queue:\n",
    "    def __init__(self):\n",
    "        self.front = None\n",
    "        self.rear = None\n",
    "        self.size = 0\n",
    "\n",
    "    def isEmpty(self):\n",
    "        return self.front is None\n",
    "\n",
    "    def enQueue(self, data):\n",
    "        new_node = QNode(data)\n",
    "        if self.isEmpty():\n",
    "            self.front = self.rear = new_node\n",
    "            print(f\"🌈 A new journey begins with '{data}' shining at the front!\")\n",
    "        else:\n",
    "            self.rear.next = new_node\n",
    "            self.rear = new_node\n",
    "            print(f\"✨ '{data}' just joined the positivity parade!\")\n",
    "        self.size += 1\n",
    "\n",
    "    def display(self):\n",
    "        if self.isEmpty():\n",
    "            print(\"💭 The queue is quiet... but even stillness holds potential. 🌱\")\n",
    "            return\n",
    "\n",
    "        print(\"🌍 Welcome to the Queue of Radiant Souls! 💫\")\n",
    "        current = self.front\n",
    "        position = 1\n",
    "        while current:\n",
    "            print(f\" {position}. 🌟 '{current.data}' — You’re doing amazing, keep shining!\")\n",
    "            current = current.next\n",
    "            position += 1\n",
    "        print(f\"\\n🌸 Total beings of brilliance in queue: {self.size} 💖\")\n",
    "        print(\"💪 Keep going, you’re building something beautiful.\\n\")\n",
    "\n",
    "# 🌼 Let's Spread Some Good Vibes\n",
    "q = Queue()\n",
    "\n",
    "q.display()  # Should encourage even if empty\n",
    "\n",
    "q.enQueue(\"Hope\")\n",
    "q.enQueue(\"Kindness\")\n",
    "q.enQueue(\"Creativity\")\n",
    "q.enQueue(\"Courage\")\n",
    "\n",
    "q.display()\n"
   ]
  },
  {
   "cell_type": "markdown",
   "metadata": {},
   "source": [
    "\n",
    "### Operation 7: size()\n",
    "This operation returns the total number of elements currently in the queue.\n"
   ]
  },
  {
   "cell_type": "markdown",
   "metadata": {},
   "source": [
    "### Explanation\n",
    "This cell demonstrates the implementation. Take a moment to check out the code and run the cell to see how it works."
   ]
  },
  {
   "cell_type": "code",
   "execution_count": null,
   "metadata": {},
   "outputs": [],
   "source": [
    "def size(self):\n",
    "    \"\"\"Return the current size of queue\"\"\"\n",
    "    return self._size"
   ]
  },
  {
   "cell_type": "code",
   "execution_count": 28,
   "metadata": {},
   "outputs": [
    {
     "name": "stdout",
     "output_type": "stream",
     "text": [
      "1\n"
     ]
    }
   ],
   "source": [
    "# Sample Execution\n",
    "\n",
    "print(linked_list_queue.size())   # Output: Current size of the queue (e.g., 1)"
   ]
  },
  {
   "cell_type": "markdown",
   "metadata": {},
   "source": [
    "### Try It Yourself!\n",
    "Modify the implementation below or try writing your own version based on what you've learned above."
   ]
  },
  {
   "cell_type": "code",
   "execution_count": 14,
   "metadata": {},
   "outputs": [
    {
     "name": "stdout",
     "output_type": "stream",
     "text": [
      "🕵️‍♂️ Detective Mode: Not a single soul in this line. Suspiciously empty!\n",
      "📦 'Einstein' is the very first guest. Red carpet rolled out!\n",
      "🥇 One and only — the chosen one is in the queue!\n",
      "🎟️ 'Curie' grabbed a spot in line. VIP vibes.\n",
      "🎟️ 'Tesla' grabbed a spot in line. VIP vibes.\n",
      "📊 Small but mighty! 3 fabulous contenders in the queue.\n",
      "🎟️ 'Newton' grabbed a spot in line. VIP vibes.\n",
      "🎟️ 'Turing' grabbed a spot in line. VIP vibes.\n",
      "🚀 Boom! We've got a crowd! Total count: 5 legends queued up!\n",
      "🎭 Here’s the roll call:\n",
      " - Einstein\n",
      " - Curie\n",
      " - Tesla\n",
      " - Newton\n",
      " - Turing\n",
      "\n"
     ]
    }
   ],
   "source": [
    "class QNode:\n",
    "    def __init__(self, data):\n",
    "        self.data = data\n",
    "        self.next = None\n",
    "\n",
    "class Queue:\n",
    "    def __init__(self):\n",
    "        self.front = None\n",
    "        self.rear = None\n",
    "        self._size = 0  # using _size to avoid conflict with method name\n",
    "\n",
    "    def isEmpty(self):\n",
    "        return self.front is None\n",
    "\n",
    "    def enQueue(self, data):\n",
    "        new_node = QNode(data)\n",
    "        if self.isEmpty():\n",
    "            self.front = self.rear = new_node\n",
    "            print(f\"📦 '{data}' is the very first guest. Red carpet rolled out!\")\n",
    "        else:\n",
    "            self.rear.next = new_node\n",
    "            self.rear = new_node\n",
    "            print(f\"🎟️ '{data}' grabbed a spot in line. VIP vibes.\")\n",
    "        self._size += 1\n",
    "\n",
    "    def size(self):\n",
    "        if self._size == 0:\n",
    "            return \"🕵️‍♂️ Detective Mode: Not a single soul in this line. Suspiciously empty!\"\n",
    "        elif self._size == 1:\n",
    "            return \"🥇 One and only — the chosen one is in the queue!\"\n",
    "        elif self._size < 5:\n",
    "            return f\"📊 Small but mighty! {self._size} fabulous contenders in the queue.\"\n",
    "        else:\n",
    "            return f\"🚀 Boom! We've got a crowd! Total count: {self._size} legends queued up!\"\n",
    "\n",
    "    def display(self):\n",
    "        if self.isEmpty():\n",
    "            print(\"🤫 The queue is as empty as a library at midnight...\")\n",
    "            return\n",
    "        print(\"🎭 Here’s the roll call:\")\n",
    "        current = self.front\n",
    "        while current:\n",
    "            print(f\" - {current.data}\")\n",
    "            current = current.next\n",
    "        print()\n",
    "\n",
    "# 🎉 Let's Get Witty\n",
    "q = Queue()\n",
    "\n",
    "print(q.size())  # Should be witty about empty\n",
    "\n",
    "q.enQueue(\"Einstein\")\n",
    "print(q.size())  # Should be witty about 1\n",
    "\n",
    "q.enQueue(\"Curie\")\n",
    "q.enQueue(\"Tesla\")\n",
    "print(q.size())  # Should say something about \"small but mighty\"\n",
    "\n",
    "q.enQueue(\"Newton\")\n",
    "q.enQueue(\"Turing\")\n",
    "print(q.size())  # Should switch to “Boom! We've got a crowd!”\n",
    "\n",
    "q.display()\n"
   ]
  },
  {
   "cell_type": "markdown",
   "metadata": {},
   "source": [
    "\n",
    "## Exercise Completion\n"
   ]
  },
  {
   "cell_type": "markdown",
   "metadata": {},
   "source": [
    "\n",
    "Once you have completed all sections:\n",
    "\n",
    "- Review your implementations.\n",
    "- Ensure your code is well-documented with comments explaining your logic.\n",
    "- Save your notebook for submission or further review.\n",
    "\n",
    "Happy coding! Enjoy practicing Queue implementations in Python!\n"
   ]
  }
 ],
 "metadata": {
  "kernelspec": {
   "display_name": "Python 3",
   "language": "python",
   "name": "python3"
  },
  "language_info": {
   "codemirror_mode": {
    "name": "ipython",
    "version": 3
   },
   "file_extension": ".py",
   "mimetype": "text/x-python",
   "name": "python",
   "nbconvert_exporter": "python",
   "pygments_lexer": "ipython3",
   "version": "3.13.3"
  }
 },
 "nbformat": 4,
 "nbformat_minor": 2
}
